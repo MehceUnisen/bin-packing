{
 "cells": [
  {
   "cell_type": "code",
   "execution_count": 1,
   "metadata": {},
   "outputs": [
    {
     "name": "stdout",
     "output_type": "stream",
     "text": [
      "Found successful configuration\n",
      "         8062423 function calls (7786511 primitive calls) in 6.299 seconds\n",
      "\n",
      "   Ordered by: internal time\n",
      "\n",
      "   ncalls  tottime  percall  cumtime  percall filename:lineno(function)\n",
      "   454317    1.506    0.000    2.368    0.000 Rect.py:88(min_distance)\n",
      "  1355384    0.515    0.000    0.515    0.000 {built-in method builtins.min}\n",
      "  1818472    0.499    0.000    0.499    0.000 {built-in method builtins.max}\n",
      "275275/91    0.486    0.000    1.058    0.012 copy.py:128(deepcopy)\n",
      "   171020    0.474    0.000    0.474    0.000 Rect.py:7(__init__)\n",
      "    89350    0.332    0.000    3.200    0.000 BinPacker.py:14(_degree)\n",
      "   171020    0.325    0.000    0.562    0.000 Configuration.py:108(fits)\n",
      "     1295    0.259    0.000    1.966    0.002 Configuration.py:42(generate_L)\n",
      "   678794    0.238    0.000    0.238    0.000 Rect.py:108(overlaps)\n",
      "   496754    0.220    0.000    0.220    0.000 Rect.py:83(contains)\n",
      "   116992    0.213    0.000    0.434    0.000 Configuration.py:96(contains)\n",
      "    89350    0.197    0.000    2.565    0.000 BinPacker.py:15(<listcomp>)\n",
      "60515/60151    0.130    0.000    0.473    0.000 copy.py:210(_deepcopy_tuple)\n",
      "    11648    0.122    0.000    0.933    0.000 Rect.py:69(__deepcopy__)\n",
      "   454317    0.096    0.000    0.096    0.000 {built-in method math.sqrt}\n",
      "    29248    0.090    0.000    0.524    0.000 Configuration.py:88(check_boundaries)\n",
      "   550914    0.085    0.000    0.085    0.000 {method 'get' of 'dict' objects}\n",
      "60515/60151    0.059    0.000    0.336    0.000 copy.py:211(<listcomp>)\n",
      "   179995    0.058    0.000    0.058    0.000 {method 'remove' of 'list' objects}\n",
      "   360451    0.055    0.000    0.055    0.000 {built-in method builtins.id}\n",
      "     1204    0.054    0.000    3.254    0.003 BinPacker.py:32(<listcomp>)\n",
      "    29248    0.052    0.000    0.615    0.000 Configuration.py:81(get_corner_type)\n",
      "   140322    0.038    0.000    0.038    0.000 {built-in method builtins.setattr}\n",
      "   202293    0.034    0.000    0.034    0.000 copy.py:182(_deepcopy_atomic)\n",
      "     1295    0.025    0.000    0.657    0.001 Configuration.py:71(get_concave_corners)\n",
      "   127867    0.023    0.000    0.023    0.000 {method 'append' of 'list' objects}\n",
      "     1295    0.015    0.000    0.015    0.000 Configuration.py:151(get_all_corners)\n",
      "    12103    0.013    0.000    0.018    0.000 copy.py:243(_keep_alive)\n",
      "    12106    0.012    0.000    0.020    0.000 enum.py:359(__call__)\n",
      "      364    0.011    0.000    1.050    0.003 copy.py:201(_deepcopy_list)\n",
      "    29338    0.011    0.000    0.011    0.000 {built-in method builtins.sum}\n",
      "    11742    0.010    0.000    0.010    0.000 Configuration.py:84(<listcomp>)\n",
      "    12106    0.008    0.000    0.008    0.000 enum.py:678(__new__)\n",
      "       91    0.006    0.000    5.143    0.057 BinPacker.py:29(_A0)\n",
      "     1295    0.006    0.000    1.973    0.002 Configuration.py:124(place_rect)\n",
      "    11739    0.004    0.000    0.004    0.000 {built-in method __new__ of type object at 0x555563cb49a0}\n",
      "    12467    0.004    0.000    0.004    0.000 {built-in method builtins.getattr}\n",
      "    12103    0.003    0.000    0.003    0.000 {built-in method builtins.issubclass}\n",
      "    11739    0.003    0.000    0.003    0.000 {method 'items' of 'dict' objects}\n",
      "      364    0.002    0.000    0.004    0.000 copy.py:259(_reconstruct)\n",
      "     1204    0.002    0.000    0.005    0.000 util.py:30(argmax)\n",
      "       91    0.001    0.000    1.057    0.012 Configuration.py:29(__deepcopy__)\n",
      "        1    0.001    0.001    6.299    6.299 BinPacker.py:51(PackConfiguration)\n",
      "     1204    0.001    0.000    0.001    0.000 {method 'index' of 'list' objects}\n",
      "       91    0.001    0.000    5.240    0.058 BinPacker.py:39(_BenefitA1)\n",
      "       90    0.001    0.000    0.001    0.000 Configuration.py:146(<listcomp>)\n",
      "      728    0.000    0.000    0.001    0.000 copy.py:264(<genexpr>)\n",
      "     1279    0.000    0.000    0.000    0.000 Rect.py:78(area)\n",
      "       90    0.000    0.000    0.001    0.000 Configuration.py:141(density)\n",
      "      364    0.000    0.000    0.000    0.000 enum.py:786(__reduce_ex__)\n",
      "       91    0.000    0.000    0.000    0.000 Configuration.py:165(is_successful)\n",
      "      366    0.000    0.000    0.000    0.000 {built-in method builtins.isinstance}\n",
      "        1    0.000    0.000    6.299    6.299 {built-in method builtins.exec}\n",
      "       93    0.000    0.000    0.000    0.000 {built-in method builtins.len}\n",
      "        1    0.000    0.000    0.000    0.000 socket.py:621(send)\n",
      "        2    0.000    0.000    0.000    0.000 iostream.py:624(write)\n",
      "        1    0.000    0.000    0.000    0.000 iostream.py:258(schedule)\n",
      "        1    0.000    0.000    0.000    0.000 {built-in method builtins.print}\n",
      "        2    0.000    0.000    0.000    0.000 iostream.py:519(_is_master_process)\n",
      "        1    0.000    0.000    0.000    0.000 threading.py:1169(is_alive)\n",
      "        2    0.000    0.000    0.000    0.000 iostream.py:546(_schedule_flush)\n",
      "        1    0.000    0.000    6.299    6.299 <string>:1(<module>)\n",
      "        1    0.000    0.000    0.000    0.000 threading.py:1102(_wait_for_tstate_lock)\n",
      "        1    0.000    0.000    0.000    0.000 iostream.py:137(_event_pipe)\n",
      "        1    0.000    0.000    0.000    0.000 {method 'acquire' of '_thread.lock' objects}\n",
      "        2    0.000    0.000    0.000    0.000 {built-in method posix.getpid}\n",
      "        2    0.000    0.000    0.000    0.000 {method 'write' of '_io.StringIO' objects}\n",
      "        2    0.000    0.000    0.000    0.000 {method '__exit__' of '_thread.RLock' objects}\n",
      "        1    0.000    0.000    0.000    0.000 threading.py:553(is_set)\n",
      "        1    0.000    0.000    0.000    0.000 {method 'disable' of '_lsprof.Profiler' objects}\n",
      "        1    0.000    0.000    0.000    0.000 {method 'append' of 'collections.deque' objects}\n",
      "\n",
      "\n",
      "Found successful configuration\n"
     ]
    },
    {
     "data": {
      "image/png": "[encoded data removed]",
      "text/plain": [
       "<Figure size 1200x600 with 2 Axes>"
      ]
     },
     "metadata": {},
     "output_type": "display_data"
    },
    {
     "ename": "KeyboardInterrupt",
     "evalue": "",
     "output_type": "error",
     "traceback": [
      "\u001b[0;31m---------------------------------------------------------------------------\u001b[0m",
      "\u001b[0;31mKeyboardInterrupt\u001b[0m                         Traceback (most recent call last)",
      "Cell \u001b[0;32mIn[1], line 26\u001b[0m\n\u001b[1;32m     24\u001b[0m \u001b[38;5;28;01mif\u001b[39;00m \u001b[38;5;129;01mnot\u001b[39;00m plotting:\n\u001b[1;32m     25\u001b[0m     initialize_plot(C, rects, \u001b[38;5;241m5\u001b[39m)\n\u001b[0;32m---> 26\u001b[0m     \u001b[43mplot_configuration\u001b[49m\u001b[43m(\u001b[49m\u001b[43mC\u001b[49m\u001b[43m,\u001b[49m\u001b[43m \u001b[49m\u001b[43mlast_frame\u001b[49m\u001b[38;5;241;43m=\u001b[39;49m\u001b[38;5;28;43;01mTrue\u001b[39;49;00m\u001b[43m)\u001b[49m\n",
      "File \u001b[0;32m~/dev/bin-packing/util.py:84\u001b[0m, in \u001b[0;36mplot_configuration\u001b[0;34m(C, last_frame)\u001b[0m\n\u001b[1;32m     82\u001b[0m final_time \u001b[38;5;241m=\u001b[39m endtime \u001b[38;5;28;01mif\u001b[39;00m last_frame \u001b[38;5;28;01melse\u001b[39;00m \u001b[38;5;241m0\u001b[39m\n\u001b[1;32m     83\u001b[0m plt\u001b[38;5;241m.\u001b[39mshow(block\u001b[38;5;241m=\u001b[39m\u001b[38;5;28;01mFalse\u001b[39;00m)\n\u001b[0;32m---> 84\u001b[0m \u001b[43mplt\u001b[49m\u001b[38;5;241;43m.\u001b[39;49m\u001b[43mpause\u001b[49m\u001b[43m(\u001b[49m\u001b[43mframetime\u001b[49m\u001b[43m \u001b[49m\u001b[38;5;241;43m+\u001b[39;49m\u001b[43m \u001b[49m\u001b[43mfinal_time\u001b[49m\u001b[43m)\u001b[49m\n\u001b[1;32m     85\u001b[0m plt\u001b[38;5;241m.\u001b[39mclose()\n",
      "File \u001b[0;32m~/.local/lib/python3.10/site-packages/matplotlib/pyplot.py:665\u001b[0m, in \u001b[0;36mpause\u001b[0;34m(interval)\u001b[0m\n\u001b[1;32m    663\u001b[0m     canvas\u001b[38;5;241m.\u001b[39mstart_event_loop(interval)\n\u001b[1;32m    664\u001b[0m \u001b[38;5;28;01melse\u001b[39;00m:\n\u001b[0;32m--> 665\u001b[0m     \u001b[43mtime\u001b[49m\u001b[38;5;241;43m.\u001b[39;49m\u001b[43msleep\u001b[49m\u001b[43m(\u001b[49m\u001b[43minterval\u001b[49m\u001b[43m)\u001b[49m\n",
      "\u001b[0;31mKeyboardInterrupt\u001b[0m: "
     ]
    }
   ],
   "source": [
    "import cProfile\n",
    "\n",
    "from Configuration import Configuration\n",
    "from BinPacker import BinPacker\n",
    "import TestCases\n",
    "from util import plot_configuration, initialize_plot\n",
    "\n",
    "if __name__ == \"__main__\":\n",
    "\n",
    "    # Parameters\n",
    "    rects = TestCases.cat1_p3\n",
    "    plotting = False \n",
    "    container_size = (20,20)\n",
    "\n",
    "\n",
    "    C = Configuration(size=container_size, unpacked_rects=rects[:], enable_plotting=plotting)\n",
    "    packer = BinPacker(C)\n",
    "\n",
    "    # For profiling     \n",
    "    cProfile.run('C = packer.PackConfiguration(C)', sort=\"time\")\n",
    "    C = packer.PackConfiguration(C)\n",
    "\n",
    "    # Show final configuration\n",
    "    if not plotting:\n",
    "        initialize_plot(C, rects, 5)\n",
    "        plot_configuration(C, last_frame=True)"
   ]
  }
 ],
 "metadata": {
  "kernelspec": {
   "display_name": "Python 3",
   "language": "python",
   "name": "python3"
  },
  "language_info": {
   "codemirror_mode": {
    "name": "ipython",
    "version": 3
   },
   "file_extension": ".py",
   "mimetype": "text/x-python",
   "name": "python",
   "nbconvert_exporter": "python",
   "pygments_lexer": "ipython3",
   "version": "3.10.12"
  }
 },
 "nbformat": 4,
 "nbformat_minor": 2
}
